{
 "cells": [
  {
   "cell_type": "markdown",
   "metadata": {},
   "source": [
    "# HTTP Request/Response Cycle - Codealong\n",
    "\n",
    "##  Introduction\n",
    "When developing a Web application, as we saw in the previous lesson, the request/response cycle is a useful guide to see how all the components of the app fit together. The request/response cycle traces how a user's request flows through the app. Understanding the request/response cycle is helpful to figure out which files to edit when developing an app (and where to look when things aren't working). This lesson will show how this setup works using python. \n",
    "\n",
    "## Objectives\n",
    "\n",
    "You will be able to: \n",
    "\n",
    "* Explain the HTTP request/response cycle\n",
    "* List the status codes of responses and their meanings\n",
    "* Obtain and interpret status codes from responses\n",
    "* Make HTTP GET and POST requests in python using the `requests` library\n",
    "\n",
    "## The `requests` Library in Python\n",
    "\n",
    "Dealing with HTTP requests could be a challenging task  any programming language. Python with two built-in modules, `urllib` and `urllib2` to handle these requests but these could be very confusing  and the documentation is not clear. This requires the programmer to write a lot of code to make even a simple HTTP request.\n",
    "\n",
    "To make these things simpler, one easy-to-use third-party library, known as` Requests`, is available and most developers prefer to use it instead or urllib/urllib2. It is an Apache2 licensed HTTP library powered by urllib3 and httplib. Requests is add-on library that allows you to send HTTP requests using Python. With this library, you can access content like web page headers, form data, files, and parameters via simple Python commands. It also allows you to access the response data in a simple way.\n",
    "\n",
    "![](images/logo.png)\n",
    "\n",
    "Below is how you would install and import the requests library before making any requests. \n",
    "```python\n",
    "# Uncomment and install requests if you don't have it already\n",
    "# !pip install requests\n",
    "\n",
    "# Import requests to working environment\n",
    "import requests\n",
    "```"
   ]
  },
  {
   "cell_type": "code",
   "execution_count": 1,
   "metadata": {},
   "outputs": [],
   "source": [
    "import requests"
   ]
  },
  {
   "cell_type": "markdown",
   "metadata": {},
   "source": [
    "## The `.get()` Method\n",
    "\n",
    "Now we have requests library ready in our working environment, we can start making some requests using the `.get()` method as shown below:\n",
    "```python\n",
    "### Making a request\n",
    "resp = requests.get('https://www.google.com')\n",
    "```"
   ]
  },
  {
   "cell_type": "code",
   "execution_count": 2,
   "metadata": {},
   "outputs": [],
   "source": [
    "resp = requests.get('https://www.google.com')"
   ]
  },
  {
   "cell_type": "markdown",
   "metadata": {},
   "source": [
    "GET is by far the most used HTTP method. We can use GET request to retrieve data from any destination. \n",
    "\n",
    "## Status Codes\n",
    "The request we make may not be always successful. The best way is to check the status code which gets returned with the response. Here is how you would do this. \n",
    "```python\n",
    "# Check the returned status code\n",
    "resp.status_code == requests.codes.ok\n",
    "```"
   ]
  },
  {
   "cell_type": "code",
   "execution_count": 3,
   "metadata": {},
   "outputs": [
    {
     "data": {
      "text/plain": [
       "True"
      ]
     },
     "execution_count": 3,
     "metadata": {},
     "output_type": "execute_result"
    }
   ],
   "source": [
    "resp.status_code == requests.codes.ok"
   ]
  },
  {
   "cell_type": "markdown",
   "metadata": {},
   "source": [
    "So this is a good check to see if our request was successful. Depending on the status of the web server, the access rights of the clients and the availability of requested information. A web server may return a number of status codes within the response. Wikipedia has an exhaustive details on all these codes. [Check them out here](https://en.wikipedia.org/wiki/List_of_HTTP_status_codes).\n",
    "\n",
    "## Response Contents\n",
    "Once we know that our request was successful and we have a valid response, we can check the returned information using `.text` property of the response object. \n",
    "```python\n",
    "print (resp.text)\n",
    "```"
   ]
  },
  {
   "cell_type": "code",
   "execution_count": 4,
   "metadata": {},
   "outputs": [
    {
     "name": "stdout",
     "output_type": "stream",
     "text": [
      "<!doctype html><html itemscope=\"\" itemtype=\"http://schema.org/WebPage\" lang=\"en-GB\"><head><meta content=\"text/html; charset=UTF-8\" http-equiv=\"Content-Type\"><meta content=\"/images/branding/googleg/1x/googleg_standard_color_128dp.png\" itemprop=\"image\"><title>Google</title><script nonce=\"W9taPIHD6E7ih0H0LVMeEA==\">(function(){window.google={kEI:'0wUXX-eGAtKIlwT255uQCA',kEXPI:'0,18167,183956,3,4,32,1151585,5662,731,223,5104,207,3204,10,1226,364,1499,158,659,383,246,5,1015,113,226,648,1046,123,1146,667,248,222,50,243,21,3,543,292,215,90,194,189,85,101,51,312,15,11,216,1121035,1197746,303216,26305,13677,4855,32692,15247,867,17444,11240,9188,8384,4859,1361,9291,3021,4746,1848,4720,4465,1808,4020,978,7931,5297,2054,920,873,1217,2975,6430,11306,3222,4516,2778,919,2277,8,2796,1593,1279,2212,530,149,1103,840,517,1522,4258,108,204,1136,3,2063,606,2025,542,1233,143,377,1947,2229,93,330,1282,16,2927,2246,474,1340,1786,3227,2845,7,4774,825,469,6286,4454,642,2449,2459,1226,1742,3655,1274,108,3408,907,2,941,2614,544,1853,7421,889,1337,1098,3,576,970,865,10,362,3546,707,148,189,1670,1642,503,1,1538,8,439,158,1,2093,3989,83,1661,4,1528,17,1278,379,630,217,1019,1145,327,78,1839,21,177,1918,371,16,785,917,9,43,214,1202,1425,459,120,755,467,213,3791,276,292,1460,512,87,3,1493,1787,1419,7,69,585,2030,2070,34,421,286,1786,659,1966,2,243,300,379,2,1,82,370,87,1019,269,679,120,108,393,107,82,320,194,4,41,4,867,277,6,203,78,299,225,165,97,334,30,210,258,440,133,711,310,4,2,213,1356,355,655,90,116,2,213,65,174,46,1,298,24,566,415,189,5,236,650,74,148,2559,5787796,3376,5997593,2800947,549,333,444,1,2,80,1,900,896,1,9,2,2551,1,748,141,59,736,563,1,4265,1,1,1,1,1017,9,305,3037,23,5,10,45,179,26,25,3,1,54,2,2,2,2,2,2,3,1,1,1,2,5,11,2,69,20740869,3220019',kBL:'dOFG'};google.sn='webhp';google.kHL='en-GB';})();(function(){google.lc=[];google.li=0;google.getEI=function(a){for(var c;a&&(!a.getAttribute||!(c=a.getAttribute(\"eid\")));)a=a.parentNode;return c||google.kEI};google.getLEI=function(a){for(var c=null;a&&(!a.getAttribute||!(c=a.getAttribute(\"leid\")));)a=a.parentNode;return c};google.ml=function(){return null};google.time=function(){return Date.now()};google.log=function(a,c,b,d,g){if(b=google.logUrl(a,c,b,d,g)){a=new Image;var e=google.lc,f=google.li;e[f]=a;a.onerror=a.onload=a.onabort=function(){delete e[f]};google.vel&&google.vel.lu&&google.vel.lu(b);a.src=b;google.li=f+1}};google.logUrl=function(a,c,b,d,g){var e=\"\",f=google.ls||\"\";b||-1!=c.search(\"&ei=\")||(e=\"&ei=\"+google.getEI(d),-1==c.search(\"&lei=\")&&(d=google.getLEI(d))&&(e+=\"&lei=\"+d));d=\"\";!b&&google.cshid&&-1==c.search(\"&cshid=\")&&\"slh\"!=a&&(d=\"&cshid=\"+google.cshid);b=b||\"/\"+(g||\"gen_204\")+\"?atyp=i&ct=\"+a+\"&cad=\"+c+e+f+\"&zx=\"+google.time()+d;/^http:/i.test(b)&&\"https:\"==window.location.protocol&&(google.ml(Error(\"a\"),!1,{src:b,glmm:1}),b=\"\");return b};}).call(this);(function(){google.y={};google.x=function(a,b){if(a)var c=a.id;else{do c=Math.random();while(google.y[c])}google.y[c]=[a,b];return!1};google.lm=[];google.plm=function(a){google.lm.push.apply(google.lm,a)};google.lq=[];google.load=function(a,b,c){google.lq.push([[a],b,c])};google.loadAll=function(a,b){google.lq.push([a,b])};}).call(this);google.f={};(function(){\n",
      "document.documentElement.addEventListener(\"submit\",function(b){var a;if(a=b.target){var c=a.getAttribute(\"data-submitfalse\");a=\"1\"==c||\"q\"==c&&!a.elements.q.value?!0:!1}else a=!1;a&&(b.preventDefault(),b.stopPropagation())},!0);document.documentElement.addEventListener(\"click\",function(b){var a;a:{for(a=b.target;a&&a!=document.documentElement;a=a.parentElement)if(\"A\"==a.tagName){a=\"1\"==a.getAttribute(\"data-nohref\");break a}a=!1}a&&b.preventDefault()},!0);}).call(this);\n",
      "var a=window.location,b=a.href.indexOf(\"#\");if(0<=b){var c=a.href.substring(b+1);/(^|&)q=/.test(c)&&-1==c.indexOf(\"#\")&&a.replace(\"/search?\"+c.replace(/(^|&)fp=[^&]*/g,\"\")+\"&cad=h\")};</script><style>#gbar,#guser{font-size:13px;padding-top:1px !important;}#gbar{height:22px}#guser{padding-bottom:7px !important;text-align:right}.gbh,.gbd{border-top:1px solid #c9d7f1;font-size:1px}.gbh{height:0;position:absolute;top:24px;width:100%}@media all{.gb1{height:22px;margin-right:.5em;vertical-align:top}#gbar{float:left}}a.gb1,a.gb4{text-decoration:underline !important}a.gb1,a.gb4{color:#00c !important}.gbi .gb4{color:#dd8e27 !important}.gbf .gb4{color:#900 !important}\n",
      "</style><style>body,td,a,p,.h{font-family:arial,sans-serif}body{margin:0;overflow-y:scroll}#gog{padding:3px 8px 0}td{line-height:.8em}.gac_m td{line-height:17px}form{margin-bottom:20px}.h{color:#36c}.q{color:#00c}em{font-weight:bold;font-style:normal}.lst{height:25px;width:496px}.gsfi,.lst{font:18px arial,sans-serif}.gsfs{font:17px arial,sans-serif}.ds{display:inline-box;display:inline-block;margin:3px 0 4px;margin-left:4px}input{font-family:inherit}body{background:#fff;color:#000}a{color:#11c;text-decoration:none}a:hover,a:active{text-decoration:underline}.fl a{color:#36c}a:visited{color:#551a8b}.sblc{padding-top:5px}.sblc a{display:block;margin:2px 0;margin-left:13px;font-size:11px}.lsbb{background:#eee;border:solid 1px;border-color:#ccc #999 #999 #ccc;height:30px}.lsbb{display:block}#fll a{display:inline-block;margin:0 12px}.lsb{background:url(/images/nav_logo229.png) 0 -261px repeat-x;border:none;color:#000;cursor:pointer;height:30px;margin:0;outline:0;font:15px arial,sans-serif;vertical-align:top}.lsb:active{background:#ccc}.lst:focus{outline:none}</style><script nonce=\"W9taPIHD6E7ih0H0LVMeEA==\"></script></head><body bgcolor=\"#fff\"><script nonce=\"W9taPIHD6E7ih0H0LVMeEA==\">(function(){var src='/images/nav_logo229.png';var iesg=false;document.body.onload = function(){window.n && window.n();if (document.images){new Image().src=src;}\n",
      "if (!iesg){document.f&&document.f.q.focus();document.gbqf&&document.gbqf.q.focus();}\n",
      "}\n",
      "})();</script><div id=\"mngb\"><div id=gbar><nobr><b class=gb1>Search</b> <a class=gb1 href=\"https://www.google.co.uk/imghp?hl=en&tab=wi\">Images</a> <a class=gb1 href=\"https://maps.google.co.uk/maps?hl=en&tab=wl\">Maps</a> <a class=gb1 href=\"https://play.google.com/?hl=en&tab=w8\">Play</a> <a class=gb1 href=\"https://www.youtube.com/?gl=GB&tab=w1\">YouTube</a> <a class=gb1 href=\"https://news.google.co.uk/nwshp?hl=en&tab=wn\">News</a> <a class=gb1 href=\"https://mail.google.com/mail/?tab=wm\">Gmail</a> <a class=gb1 href=\"https://drive.google.com/?tab=wo\">Drive</a> <a class=gb1 style=\"text-decoration:none\" href=\"https://www.google.co.uk/intl/en/about/products?tab=wh\"><u>More</u> &raquo;</a></nobr></div><div id=guser width=100%><nobr><span id=gbn class=gbi></span><span id=gbf class=gbf></span><span id=gbe></span><a href=\"http://www.google.co.uk/history/optout?hl=en\" class=gb4>Web History</a> | <a  href=\"/preferences?hl=en\" class=gb4>Settings</a> | <a target=_top id=gb_70 href=\"https://accounts.google.com/ServiceLogin?hl=en&passive=true&continue=https://www.google.com/\" class=gb4>Sign in</a></nobr></div><div class=gbh style=left:0></div><div class=gbh style=right:0></div></div><center><br clear=\"all\" id=\"lgpd\"><div id=\"lga\"><img alt=\"Google\" height=\"92\" src=\"/images/branding/googlelogo/1x/googlelogo_white_background_color_272x92dp.png\" style=\"padding:28px 0 14px\" width=\"272\" id=\"hplogo\"><br><br></div><form action=\"/search\" name=\"f\"><table cellpadding=\"0\" cellspacing=\"0\"><tr valign=\"top\"><td width=\"25%\">&nbsp;</td><td align=\"center\" nowrap=\"\"><input name=\"ie\" value=\"ISO-8859-1\" type=\"hidden\"><input value=\"en-GB\" name=\"hl\" type=\"hidden\"><input name=\"source\" type=\"hidden\" value=\"hp\"><input name=\"biw\" type=\"hidden\"><input name=\"bih\" type=\"hidden\"><div class=\"ds\" style=\"height:32px;margin:4px 0\"><input class=\"lst\" style=\"margin:0;padding:5px 8px 0 6px;vertical-align:top;color:#000\" autocomplete=\"off\" value=\"\" title=\"Google Search\" maxlength=\"2048\" name=\"q\" size=\"57\"></div><br style=\"line-height:0\"><span class=\"ds\"><span class=\"lsbb\"><input class=\"lsb\" value=\"Google Search\" name=\"btnG\" type=\"submit\"></span></span><span class=\"ds\"><span class=\"lsbb\"><input class=\"lsb\" id=\"tsuid1\" value=\"I'm Feeling Lucky\" name=\"btnI\" type=\"submit\"><script nonce=\"W9taPIHD6E7ih0H0LVMeEA==\">(function(){var id='tsuid1';document.getElementById(id).onclick = function(){if (this.form.q.value){this.checked = 1;if (this.form.iflsig)this.form.iflsig.disabled = false;}\n",
      "else top.location='/doodles/';};})();</script><input value=\"AINFCbYAAAAAXxcT41f6PFhyeMTubLUm8HbJvhbX1aiD\" name=\"iflsig\" type=\"hidden\"></span></span></td><td class=\"fl sblc\" align=\"left\" nowrap=\"\" width=\"25%\"><a href=\"/advanced_search?hl=en-GB&amp;authuser=0\">Advanced search</a></td></tr></table><input id=\"gbv\" name=\"gbv\" type=\"hidden\" value=\"1\"><script nonce=\"W9taPIHD6E7ih0H0LVMeEA==\">(function(){var a,b=\"1\";if(document&&document.getElementById)if(\"undefined\"!=typeof XMLHttpRequest)b=\"2\";else if(\"undefined\"!=typeof ActiveXObject){var c,d,e=[\"MSXML2.XMLHTTP.6.0\",\"MSXML2.XMLHTTP.3.0\",\"MSXML2.XMLHTTP\",\"Microsoft.XMLHTTP\"];for(c=0;d=e[c++];)try{new ActiveXObject(d),b=\"2\"}catch(h){}}a=b;if(\"2\"==a&&-1==location.search.indexOf(\"&gbv=2\")){var f=google.gbvu,g=document.getElementById(\"gbv\");g&&(g.value=a);f&&window.setTimeout(function(){location.href=f},0)};}).call(this);</script></form><div id=\"gac_scont\"></div><div style=\"font-size:83%;min-height:3.5em\"><br></div><span id=\"footer\"><div style=\"font-size:10pt\"><div style=\"margin:19px auto;text-align:center\" id=\"fll\"><a href=\"/intl/en/ads/\">Advertising Programmes</a><a href=\"/services/\">Business Solutions</a><a href=\"/intl/en/about.html\">About Google</a><a href=\"https://www.google.com/setprefdomain?prefdom=GB&amp;prev=https://www.google.co.uk/&amp;sig=K_KYPVxBjxqc8TJRgU-Wn-2Cw5p2E%3D\">Google.co.uk</a></div></div><p style=\"font-size:8pt;color:#767676\">&copy; 2020 - <a href=\"/intl/en/policies/privacy/\">Privacy</a> - <a href=\"/intl/en/policies/terms/\">Terms</a></p></span></center><script nonce=\"W9taPIHD6E7ih0H0LVMeEA==\">(function(){window.google.cdo={height:0,width:0};(function(){var a=window.innerWidth,b=window.innerHeight;if(!a||!b){var c=window.document,d=\"CSS1Compat\"==c.compatMode?c.documentElement:c.body;a=d.clientWidth;b=d.clientHeight}a&&b&&(a!=google.cdo.width||b!=google.cdo.height)&&google.log(\"\",\"\",\"/client_204?&atyp=i&biw=\"+a+\"&bih=\"+b+\"&ei=\"+google.kEI);}).call(this);})();(function(){var u='/xjs/_/js/k\\x3dxjs.hp.en.bL4ZHT0YKso.O/m\\x3dsb_he,d/am\\x3dAE-wOQ/d\\x3d1/rs\\x3dACT90oGwABGmH66lhsGMROHPgMCVSwK3Ow';\n",
      "setTimeout(function(){var b=document;var a=\"SCRIPT\";\"application/xhtml+xml\"===b.contentType&&(a=a.toLowerCase());a=b.createElement(a);a.src=u;google.timers&&google.timers.load&&google.tick&&google.tick(\"load\",\"xjsls\");document.body.appendChild(a)},0);})();(function(){window.google.xjsu='/xjs/_/js/k\\x3dxjs.hp.en.bL4ZHT0YKso.O/m\\x3dsb_he,d/am\\x3dAE-wOQ/d\\x3d1/rs\\x3dACT90oGwABGmH66lhsGMROHPgMCVSwK3Ow';})();function _DumpException(e){throw e;}\n",
      "function _F_installCss(c){}\n",
      "(function(){google.jl={dw:false,em:[],emw:false,lls:'default',pdt:0,snet:true,uwp:true};})();(function(){var pmc='{\\x22d\\x22:{},\\x22sb_he\\x22:{\\x22agen\\x22:false,\\x22cgen\\x22:false,\\x22client\\x22:\\x22heirloom-hp\\x22,\\x22dh\\x22:true,\\x22dhqt\\x22:true,\\x22ds\\x22:\\x22\\x22,\\x22ffql\\x22:\\x22en\\x22,\\x22fl\\x22:true,\\x22host\\x22:\\x22google.com\\x22,\\x22isbh\\x22:28,\\x22jsonp\\x22:true,\\x22msgs\\x22:{\\x22cibl\\x22:\\x22Clear Search\\x22,\\x22dym\\x22:\\x22Did you mean:\\x22,\\x22lcky\\x22:\\x22I\\\\u0026#39;m Feeling Lucky\\x22,\\x22lml\\x22:\\x22Learn more\\x22,\\x22oskt\\x22:\\x22Input tools\\x22,\\x22psrc\\x22:\\x22This search was removed from your \\\\u003Ca href\\x3d\\\\\\x22/history\\\\\\x22\\\\u003EWeb History\\\\u003C/a\\\\u003E\\x22,\\x22psrl\\x22:\\x22Remove\\x22,\\x22sbit\\x22:\\x22Search by image\\x22,\\x22srch\\x22:\\x22Google Search\\x22},\\x22ovr\\x22:{},\\x22pq\\x22:\\x22\\x22,\\x22refpd\\x22:true,\\x22rfs\\x22:[],\\x22sbpl\\x22:16,\\x22sbpr\\x22:16,\\x22scd\\x22:10,\\x22stok\\x22:\\x22wJT7Y7Kzb5dLIX0jVpiSKNHXRgI\\x22,\\x22uhde\\x22:false}}';google.pmc=JSON.parse(pmc);})();</script>        </body></html>\n"
     ]
    }
   ],
   "source": [
    "print (resp.text)"
   ]
  },
  {
   "cell_type": "markdown",
   "metadata": {},
   "source": [
    "So this returns a lot of information which by default is not really human-understandable due to data encoding, HTML tags and other styling information that only a web browser can truly translate. In later lessons, we'll learn how we can use **_Regular Expressions_**  to clean this information and extract the required bits and pieces for analysis. \n",
    "\n",
    "## Response Headers\n",
    "The response of an HTTP request can contain many headers that holds different bits of information. We can use `.header` property of the response object to access the header information as shown below:\n",
    "\n",
    "```python\n",
    "# Read the header of the response - convert to dictionary for displaying k:v pairs neatly\n",
    "dict(resp.headers)\n",
    "```"
   ]
  },
  {
   "cell_type": "code",
   "execution_count": 5,
   "metadata": {},
   "outputs": [
    {
     "data": {
      "text/plain": [
       "{'Date': 'Tue, 21 Jul 2020 15:12:19 GMT',\n",
       " 'Expires': '-1',\n",
       " 'Cache-Control': 'private, max-age=0',\n",
       " 'Content-Type': 'text/html; charset=ISO-8859-1',\n",
       " 'P3P': 'CP=\"This is not a P3P policy! See g.co/p3phelp for more info.\"',\n",
       " 'Content-Encoding': 'gzip',\n",
       " 'Server': 'gws',\n",
       " 'X-XSS-Protection': '0',\n",
       " 'X-Frame-Options': 'SAMEORIGIN',\n",
       " 'Set-Cookie': '1P_JAR=2020-07-21-15; expires=Thu, 20-Aug-2020 15:12:19 GMT; path=/; domain=.google.com; Secure, NID=204=ytgeR5NSrkbnmIjpRVmlF_AqTsL0DNo8VvCNFE-y5dAC3BIxbDLxTrtLmz6L2aVgfDwlVfc-i4J_jKKnHNq4FSTy8AYTRMA4UjkpwSRScdyb2lwTTTpGkICka6pQ7_syAG-EbGdXZEfuTr6gBa13Kb62Cl7wHwUZ3Dm9CsYALdc; expires=Wed, 20-Jan-2021 15:12:19 GMT; path=/; domain=.google.com; HttpOnly',\n",
       " 'Alt-Svc': 'h3-29=\":443\"; ma=2592000,h3-27=\":443\"; ma=2592000,h3-25=\":443\"; ma=2592000,h3-T050=\":443\"; ma=2592000,h3-Q050=\":443\"; ma=2592000,h3-Q046=\":443\"; ma=2592000,h3-Q043=\":443\"; ma=2592000,quic=\":443\"; ma=2592000; v=\"46,43\"',\n",
       " 'Transfer-Encoding': 'chunked'}"
      ]
     },
     "execution_count": 5,
     "metadata": {},
     "output_type": "execute_result"
    }
   ],
   "source": [
    "dict(resp.headers)"
   ]
  },
  {
   "cell_type": "markdown",
   "metadata": {},
   "source": [
    "The content of the headers is our required element. You can see the key-value pairs holding various pieces of  information about the resource and request. Let's try to parse some of these values using the requests library:\n",
    "\n",
    "```python\n",
    "print(resp.headers['Date'])  # Date the response was sent\n",
    "print(resp.headers['server'])   # Server type (google web service - GWS)\n",
    "```"
   ]
  },
  {
   "cell_type": "code",
   "execution_count": 6,
   "metadata": {},
   "outputs": [
    {
     "name": "stdout",
     "output_type": "stream",
     "text": [
      "Tue, 21 Jul 2020 15:12:19 GMT\n",
      "gws\n"
     ]
    }
   ],
   "source": [
    "print(resp.headers['Date']) \n",
    "print(resp.headers['server'])"
   ]
  },
  {
   "cell_type": "markdown",
   "metadata": {},
   "source": [
    "## Try `httpbin`\n",
    "`httpbin.org` is a popular website to test different HTTP operations and practice with request-response cycles. Let's use httpbin/get to analyze the response to a GET request. First of all, let's find out the response header and inspect how it looks. \n",
    "\n",
    "```python\n",
    "r = requests.get('http://httpbin.org/get')\n",
    "\n",
    "response = r.json()  \n",
    "print(r.json())  \n",
    "print(response['args'])  \n",
    "print(response['headers'])  \n",
    "print(response['headers']['Accept'])  \n",
    "print(response['headers']['Accept-Encoding'])  \n",
    "print(response['headers']['Host'])  \n",
    "print(response['headers']['User-Agent'])  \n",
    "print(response['origin'])  \n",
    "print(response['url'])  \n",
    "```"
   ]
  },
  {
   "cell_type": "code",
   "execution_count": 7,
   "metadata": {},
   "outputs": [
    {
     "name": "stdout",
     "output_type": "stream",
     "text": [
      "{'args': {}, 'headers': {'Accept': '*/*', 'Accept-Encoding': 'gzip, deflate', 'Host': 'httpbin.org', 'User-Agent': 'python-requests/2.22.0', 'X-Amzn-Trace-Id': 'Root=1-5f1718fe-c191bb6f23b7746b0aa33547'}, 'origin': '77.96.156.198', 'url': 'http://httpbin.org/get'}\n",
      "{}\n",
      "{'Accept': '*/*', 'Accept-Encoding': 'gzip, deflate', 'Host': 'httpbin.org', 'User-Agent': 'python-requests/2.22.0', 'X-Amzn-Trace-Id': 'Root=1-5f1718fe-c191bb6f23b7746b0aa33547'}\n",
      "*/*\n",
      "gzip, deflate\n",
      "httpbin.org\n",
      "python-requests/2.22.0\n",
      "77.96.156.198\n",
      "http://httpbin.org/get\n"
     ]
    }
   ],
   "source": [
    "r = requests.get('http://httpbin.org/get')\n",
    "\n",
    "response = r.json()  \n",
    "print(r.json())  \n",
    "print(response['args'])  \n",
    "print(response['headers'])  \n",
    "print(response['headers']['Accept'])  \n",
    "print(response['headers']['Accept-Encoding'])  \n",
    "print(response['headers']['Host'])  \n",
    "print(response['headers']['User-Agent'])  \n",
    "print(response['origin'])  \n",
    "print(response['url']) "
   ]
  },
  {
   "cell_type": "markdown",
   "metadata": {},
   "source": [
    "Let's use `requests` object structure to parse the values of headers as we did above. \n",
    "\n",
    "```python\n",
    "print(r.headers['Access-Control-Allow-Credentials'])  \n",
    "print(r.headers['Access-Control-Allow-Origin'])  \n",
    "print(r.headers['CONNECTION'])  \n",
    "print(r.headers['content-length'])  \n",
    "print(r.headers['Content-Type'])  \n",
    "print(r.headers['Date'])  \n",
    "print(r.headers['server'])  \n",
    "```"
   ]
  },
  {
   "cell_type": "code",
   "execution_count": 8,
   "metadata": {},
   "outputs": [
    {
     "name": "stdout",
     "output_type": "stream",
     "text": [
      "true\n",
      "*\n",
      "keep-alive\n",
      "306\n",
      "application/json\n",
      "Tue, 21 Jul 2020 16:34:06 GMT\n",
      "gunicorn/19.9.0\n"
     ]
    }
   ],
   "source": [
    "print(r.headers['Access-Control-Allow-Credentials'])  \n",
    "print(r.headers['Access-Control-Allow-Origin'])  \n",
    "print(r.headers['CONNECTION'])  \n",
    "print(r.headers['content-length'])  \n",
    "print(r.headers['Content-Type'])  \n",
    "print(r.headers['Date'])  \n",
    "print(r.headers['server'])  "
   ]
  },
  {
   "cell_type": "markdown",
   "metadata": {},
   "source": [
    "## Passing Parameters in GET\n",
    "In some cases, you'll need to pass parameters along with your GET requests. These extra parameters usually take the the form of query strings added to the requested URL. To do this, we need to pass these values in the `params` parameter. Let's try to access information from `httpbin` with some user information. \n",
    "\n",
    "Note: The user information is not getting authenticated at `httpbin` so any name/password will work fine. This is merely for practice. \n",
    "\n",
    "```python\n",
    "credentials = {'user_name': 'FlatironSchool', 'password': 'learnlovecode'}  \n",
    "r = requests.get('http://httpbin.org/get', params=credentials)\n",
    "\n",
    "print(r.url)  \n",
    "print(r.text)  \n",
    "```"
   ]
  },
  {
   "cell_type": "code",
   "execution_count": 9,
   "metadata": {},
   "outputs": [
    {
     "name": "stdout",
     "output_type": "stream",
     "text": [
      "http://httpbin.org/get?user_name=FlatironSchool&password=learnlovecode\n",
      "{\n",
      "  \"args\": {\n",
      "    \"password\": \"learnlovecode\", \n",
      "    \"user_name\": \"FlatironSchool\"\n",
      "  }, \n",
      "  \"headers\": {\n",
      "    \"Accept\": \"*/*\", \n",
      "    \"Accept-Encoding\": \"gzip, deflate\", \n",
      "    \"Host\": \"httpbin.org\", \n",
      "    \"User-Agent\": \"python-requests/2.22.0\", \n",
      "    \"X-Amzn-Trace-Id\": \"Root=1-5f1719a0-b06e2cd24a6167f6840e0bb7\"\n",
      "  }, \n",
      "  \"origin\": \"77.96.156.198\", \n",
      "  \"url\": \"http://httpbin.org/get?user_name=FlatironSchool&password=learnlovecode\"\n",
      "}\n",
      "\n"
     ]
    }
   ],
   "source": [
    "credentials = {'user_name': 'FlatironSchool', 'password': 'learnlovecode'}  \n",
    "r = requests.get('http://httpbin.org/get', params=credentials)\n",
    "\n",
    "print(r.url)  \n",
    "print(r.text) "
   ]
  },
  {
   "cell_type": "markdown",
   "metadata": {},
   "source": [
    "## HTTP POST method \n",
    "\n",
    "Sometimes we need to send one or more files simultaneously to the server. For example, if a user is submitting a form and the form includes different fields for uploading files, like user profile picture, user resume, etc. Requests can handle multiple files on a single request. This can be achieved by putting the files to a list of tuples in the form (`field_name, file_info)`.\n",
    "\n",
    "\n",
    "```python\n",
    "import requests\n",
    "\n",
    "url = 'http://httpbin.org/post'  \n",
    "file_list = [  \n",
    "    ('image', ('fi.png', open('images/fi.png', 'rb'), 'image/png')),\n",
    "    ('image', ('fi2.jpeg', open('images/fi2.jpeg', 'rb'), 'image/png'))\n",
    "]\n",
    "\n",
    "r = requests.post(url, files=file_list)  \n",
    "print(r.text)  \n",
    "```"
   ]
  },
  {
   "cell_type": "code",
   "execution_count": 10,
   "metadata": {},
   "outputs": [
    {
     "name": "stdout",
     "output_type": "stream",
     "text": [
      "{\n",
      "  \"args\": {}, \n",
      "  \"data\": \"\", \n",
      "  \"files\": {\n",
      "    \"image\": \"data:image/png;base64,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\"\n",
      "  }, \n",
      "  \"form\": {}, \n",
      "  \"headers\": {\n",
      "    \"Accept\": \"*/*\", \n",
      "    \"Accept-Encoding\": \"gzip, deflate\", \n",
      "    \"Content-Length\": \"40790\", \n",
      "    \"Content-Type\": \"multipart/form-data; boundary=e309ed588e09f1d51b7e185e94b52859\", \n",
      "    \"Host\": \"httpbin.org\", \n",
      "    \"User-Agent\": \"python-requests/2.22.0\", \n",
      "    \"X-Amzn-Trace-Id\": \"Root=1-5f171bdf-bf99a4a007c219403d894c20\"\n",
      "  }, \n",
      "  \"json\": null, \n",
      "  \"origin\": \"77.96.156.198\", \n",
      "  \"url\": \"http://httpbin.org/post\"\n",
      "}\n",
      "\n"
     ]
    }
   ],
   "source": [
    "import requests\n",
    "\n",
    "url = 'http://httpbin.org/post'  \n",
    "file_list = [  \n",
    "    ('image', ('fi.png', open('images/fi.png', 'rb'), 'image/png')),\n",
    "    ('image', ('fi2.jpeg', open('images/fi2.jpeg', 'rb'), 'image/png'))\n",
    "]\n",
    "\n",
    "r = requests.post(url, files=file_list)  \n",
    "print(r.text)"
   ]
  },
  {
   "cell_type": "markdown",
   "metadata": {},
   "source": [
    "This was a brief introduction to how you would send requests and get responses from a web server, while totally avoiding the web browser interface. Later we'll see how we can pick up the required data elements from the contents of the web page for analytical purposes. \n",
    "\n",
    "## Summary\n",
    "In this lesson, we provided an introduction to the `requests` library in python. We saw how to use the get method to send requests to web servers, check server status, look at the header elements of a web page and how to send extra parameters like user information. "
   ]
  }
 ],
 "metadata": {
  "kernelspec": {
   "display_name": "Python 3",
   "language": "python",
   "name": "python3"
  },
  "language_info": {
   "codemirror_mode": {
    "name": "ipython",
    "version": 3
   },
   "file_extension": ".py",
   "mimetype": "text/x-python",
   "name": "python",
   "nbconvert_exporter": "python",
   "pygments_lexer": "ipython3",
   "version": "3.6.9"
  },
  "toc": {
   "base_numbering": 1,
   "nav_menu": {},
   "number_sections": true,
   "sideBar": true,
   "skip_h1_title": false,
   "title_cell": "Table of Contents",
   "title_sidebar": "Contents",
   "toc_cell": false,
   "toc_position": {},
   "toc_section_display": true,
   "toc_window_display": false
  }
 },
 "nbformat": 4,
 "nbformat_minor": 2
}
